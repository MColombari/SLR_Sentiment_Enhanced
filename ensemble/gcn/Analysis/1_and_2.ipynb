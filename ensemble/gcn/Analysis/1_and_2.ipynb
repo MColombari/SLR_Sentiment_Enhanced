{
 "cells": [
  {
   "cell_type": "markdown",
   "metadata": {},
   "source": [
    "Comparison between exterpiment 1 and 2, with enphasys over how the emotion enhancement changes the results."
   ]
  },
  {
   "cell_type": "code",
   "execution_count": 1,
   "metadata": {},
   "outputs": [],
   "source": [
    "# imports\n",
    "import numpy as np\n",
    "import csv\n",
    "import json"
   ]
  },
  {
   "cell_type": "code",
   "execution_count": 2,
   "metadata": {},
   "outputs": [],
   "source": [
    "# File path\n",
    "\n",
    "EXP_1_CSV_FILE_PATH = \"/work/cvcs2024/SLR_sentiment_enhanced/SLRSE_model_data/Ensemble/SL-GCN/prediction/1/stat.csv\"\n",
    "EXP_2_CSV_FILE_PATH = \"/work/cvcs2024/SLR_sentiment_enhanced/SLRSE_model_data/Ensemble/SL-GCN/prediction/2/stat.csv\"\n",
    "\n",
    "EMOTION_LABEL_PATH = \"/homes/mcolombari/SLR_Sentiment_Enhanced/DAN_module/sign_emotion_assosiation.json\""
   ]
  },
  {
   "cell_type": "code",
   "execution_count": 3,
   "metadata": {},
   "outputs": [],
   "source": [
    "# Load emotion label\n",
    "\n",
    "f_w_to_e = open(EMOTION_LABEL_PATH)\n",
    "w_to_e = json.load(f_w_to_e)\n",
    "\n",
    "raw_label = []\n",
    "for _, i in w_to_e.items():\n",
    "    for a in i:\n",
    "        raw_label.append(a)"
   ]
  },
  {
   "cell_type": "code",
   "execution_count": 4,
   "metadata": {},
   "outputs": [],
   "source": [
    "# Load data csv\n",
    "\n",
    "exp_1_dict = dict()\n",
    "with open(EXP_1_CSV_FILE_PATH, newline='\\n') as csvfile:\n",
    "    spamreader = csv.reader(csvfile, delimiter=',')\n",
    "    for row in spamreader:\n",
    "        exp_1_dict[str(row[0])] = {\n",
    "            'label': int(row[1]),\n",
    "            'score_diff': float(row[2]),\n",
    "            'score_diff_softmax': float(row[3]),\n",
    "            'score': np.array([float(row[i + 4]) for i in range(2000)])\n",
    "        }\n",
    "\n",
    "\n",
    "exp_2_dict = dict()\n",
    "with open(EXP_2_CSV_FILE_PATH, newline='\\n') as csvfile:\n",
    "    spamreader = csv.reader(csvfile, delimiter=',')\n",
    "    for row in spamreader:\n",
    "        exp_2_dict[str(row[0])] = {\n",
    "            'label': int(row[1]),\n",
    "            'score_diff': float(row[2]),\n",
    "            'score_diff_softmax': float(row[3]),\n",
    "            'emotion': np.array([float(row[i + 4]) for i in range(8)]),\n",
    "            'score': np.array([float(row[i + 12]) for i in range(2000)])\n",
    "        }"
   ]
  },
  {
   "cell_type": "code",
   "execution_count": 5,
   "metadata": {},
   "outputs": [
    {
     "name": "stdout",
     "output_type": "stream",
     "text": [
      "Exp 1 dataset: {'label': 38, 'score_diff': 717.9242, 'score_diff_softmax': 1.996, 'score': array([-2.63238406,  0.58455741, -5.64533567, ..., -0.14928038,\n",
      "        2.12425494, -5.85246658])}\n",
      "Exp 2 dataset: {'label': 38, 'score_diff': 717.9242, 'score_diff_softmax': 1.996, 'emotion': array([0.3403, 0.    , 0.    , 0.    , 0.    , 0.2825, 0.    , 0.3772]), 'score': array([-2.63238406,  0.58455741, -5.64533567, ..., -0.14928038,\n",
      "        2.12425494, -5.85246658])}\n"
     ]
    }
   ],
   "source": [
    "# Print first element dataset\n",
    "print(f\"Exp 1 dataset: {exp_1_dict['signer0_sample4']}\")\n",
    "print(f\"Exp 2 dataset: {exp_2_dict['signer0_sample4']}\")"
   ]
  },
  {
   "cell_type": "markdown",
   "metadata": {},
   "source": [
    "## Analysis First Experiment\n",
    "\n",
    "We are working with the provided ensemble with just the alpha values changed accordisngly to the accuracy of our model.\n",
    "We introduce 2 new losses, one where we normalize the score vector and compute the sum of the module difference with respect to the optimal vector (1 on lable, 0 everywere else), and the second where we do the same difference but we apply the softmax as normalization.\n"
   ]
  },
  {
   "cell_type": "code",
   "execution_count": 13,
   "metadata": {},
   "outputs": [
    {
     "name": "stdout",
     "output_type": "stream",
     "text": [
      "Top1 accuracy: 0.2824091076019097\n",
      "Top5 accuracy: 0.599706206390011\n",
      "Top10 accuracy: 0.6999632757987514\n",
      "Mean loss normal: 731.9923971722365\n",
      "Mean loss softmax: 1.49860088138083\n"
     ]
    }
   ],
   "source": [
    "top1_count = sum([1 if el['label'] == el['score'].argsort()[-1] else 0 for _ , el in exp_1_dict.items()])\n",
    "print(f\"Top1 accuracy: {top1_count / len(exp_1_dict)}\")\n",
    "\n",
    "top5_count = sum([1 if el['label'] in el['score'].argsort()[-5:] else 0 for _ , el in exp_1_dict.items()])\n",
    "print(f\"Top5 accuracy: {top5_count / len(exp_1_dict)}\")\n",
    "\n",
    "top10_count = sum([1 if el['label'] in el['score'].argsort()[-10:] else 0 for _ , el in exp_1_dict.items()])\n",
    "print(f\"Top10 accuracy: {top10_count / len(exp_1_dict)}\")\n",
    "\n",
    "mean_loss_normal = np.array([el['score_diff'] for k, el in exp_1_dict.items()]).mean()\n",
    "print(f\"Mean loss normal: {mean_loss_normal}\")\n",
    "mean_loss_softmax = np.array([el['score_diff_softmax'] for k, el in exp_1_dict.items()]).mean()\n",
    "print(f\"Mean loss softmax: {mean_loss_softmax}\")"
   ]
  },
  {
   "cell_type": "markdown",
   "metadata": {},
   "source": [
    "## Analysis 2 experiment\n",
    "\n",
    "Now we enhance with emeotion, we take the emotion vector multiply by EMOTION_SLOPE and sum by EMOTION_OFFSET and the use it to increment the score in percentage:\n",
    "    \n",
    "    ret += ret * ((e_weight * EMOTION_SLOPE) + EMOTION_OFFSET)"
   ]
  },
  {
   "cell_type": "code",
   "execution_count": 12,
   "metadata": {},
   "outputs": [
    {
     "name": "stdout",
     "output_type": "stream",
     "text": [
      "Top1 accuracy: 0.28094013955196473\n",
      "Top5 accuracy: 0.6000734484024972\n",
      "Top10 accuracy: 0.6999632757987514\n",
      "Mean loss normal: 729.4097753213367\n",
      "Mean loss softmax: 1.4992318031582812\n"
     ]
    }
   ],
   "source": [
    "top1_count = sum([1 if el['label'] == el['score'].argsort()[-1] else 0 for _ , el in exp_2_dict.items()])\n",
    "print(f\"Top1 accuracy: {top1_count / len(exp_2_dict)}\")\n",
    "\n",
    "top5_count = sum([1 if el['label'] in el['score'].argsort()[-5:] else 0 for _ , el in exp_2_dict.items()])\n",
    "print(f\"Top5 accuracy: {top5_count / len(exp_2_dict)}\")\n",
    "\n",
    "top10_count = sum([1 if el['label'] in el['score'].argsort()[-10:] else 0 for _ , el in exp_2_dict.items()])\n",
    "print(f\"Top10 accuracy: {top10_count / len(exp_2_dict)}\")\n",
    "\n",
    "mean_loss_normal = np.array([el['score_diff'] for k, el in exp_2_dict.items()]).mean()\n",
    "print(f\"Mean loss normal: {mean_loss_normal}\")\n",
    "mean_loss_softmax = np.array([el['score_diff_softmax'] for k, el in exp_2_dict.items()]).mean()\n",
    "print(f\"Mean loss softmax: {mean_loss_softmax}\")"
   ]
  },
  {
   "cell_type": "code",
   "execution_count": 11,
   "metadata": {},
   "outputs": [
    {
     "name": "stdout",
     "output_type": "stream",
     "text": [
      "Top1 accuracy: 0.45098039215686275\n",
      "Top5 accuracy: 0.7843137254901961\n",
      "Top10 accuracy: 0.7843137254901961\n",
      "Mean loss normal: 625.3873843137254\n",
      "Mean loss softmax: 1.1447745098039215\n"
     ]
    }
   ],
   "source": [
    "# Accuracy for emotion label\n",
    "\n",
    "em_value = {}\n",
    "for k, el in exp_2_dict.items():\n",
    "    if el['label'] in raw_label:\n",
    "        em_value[k] = el\n",
    "\n",
    "\n",
    "top1_count = sum([1 if el['label'] == el['score'].argsort()[-1] else 0 for _ , el in em_value.items()])\n",
    "print(f\"Top1 accuracy: {top1_count / len(em_value)}\")\n",
    "\n",
    "top5_count = sum([1 if el['label'] in el['score'].argsort()[-5:] else 0 for _ , el in em_value.items()])\n",
    "print(f\"Top5 accuracy: {top5_count / len(em_value)}\")\n",
    "\n",
    "top10_count = sum([1 if el['label'] in el['score'].argsort()[-10:] else 0 for _ , el in em_value.items()])\n",
    "print(f\"Top10 accuracy: {top10_count / len(em_value)}\")\n",
    "\n",
    "mean_loss_normal = np.array([el['score_diff'] for k, el in em_value.items()]).mean()\n",
    "print(f\"Mean loss normal: {mean_loss_normal}\")\n",
    "mean_loss_softmax = np.array([el['score_diff_softmax'] for k, el in em_value.items()]).mean()\n",
    "print(f\"Mean loss softmax: {mean_loss_softmax}\")"
   ]
  },
  {
   "cell_type": "code",
   "execution_count": 9,
   "metadata": {},
   "outputs": [
    {
     "name": "stdout",
     "output_type": "stream",
     "text": [
      "Total file: 2723\n",
      "Total file to enhance: 51\n",
      "Total file NOT to enhance: 2672\n",
      "\n",
      "TP: 32\n",
      "TN: 376\n",
      "FP: 2296\n",
      "FN: 19\n",
      "\n",
      "Total: 2723\n"
     ]
    }
   ],
   "source": [
    "# compute table of result with respect to emotion enhance.\n",
    "# TP: video that should be enhance and are, in the wight way.\n",
    "# TN: video that shouldn't  be enhance and are not, in any way.\n",
    "# FP: video that shouldn't  be enhance and are.\n",
    "# FN: video that should  be enhance and are not.\n",
    "\n",
    "file_name_to_enahnce = [k for k, el in exp_2_dict.items() if el['label'] in raw_label]\n",
    "file_name_not_to_enahnce = [k for k, el in exp_2_dict.items() if not el['label'] in raw_label]\n",
    "\n",
    "print(f\"Total file: {len(exp_2_dict)}\")\n",
    "print(f\"Total file to enhance: {len(file_name_to_enahnce)}\")\n",
    "print(f\"Total file NOT to enhance: {len(file_name_not_to_enahnce)}\")\n",
    "\n",
    "#   TP - FN\n",
    "tp = 0\n",
    "fn = 0\n",
    "for name in file_name_to_enahnce:\n",
    "    label = exp_2_dict[name]['label']\n",
    "    # Find the corresponding emotion\n",
    "    emotion_to_enhance = next(int(key) for key, value in w_to_e.items() if label in value)\n",
    "    emotion = exp_2_dict[name]['emotion']\n",
    "\n",
    "    # I consider any kind of enhancemnt as such, so it's TP just by a \"0.001\".\n",
    "    if emotion[emotion_to_enhance] > 0:\n",
    "        tp += 1\n",
    "    else:\n",
    "        fn += 1\n",
    "\n",
    "\n",
    "#   TN - FP\n",
    "tn = 0\n",
    "fp = 0\n",
    "for name in file_name_not_to_enahnce:\n",
    "    emotion = exp_2_dict[name]['emotion']\n",
    "    if emotion[1:].sum() == 0:\n",
    "        tn += 1\n",
    "    else:\n",
    "        fp += 1\n",
    "\n",
    "\n",
    "print(f\"\\nTP: {tp}\")\n",
    "print(f\"TN: {tn}\")\n",
    "print(f\"FP: {fp}\")\n",
    "print(f\"FN: {fn}\")\n",
    "print(f\"\\nTotal: {tp + tn + fp + fn}\")"
   ]
  },
  {
   "cell_type": "code",
   "execution_count": 10,
   "metadata": {},
   "outputs": [
    {
     "name": "stdout",
     "output_type": "stream",
     "text": [
      "Total file: 2723\n",
      "Total file to enhance: 51\n",
      "Total file NOT to enhance: 2672\n"
     ]
    },
    {
     "name": "stdout",
     "output_type": "stream",
     "text": [
      "\n",
      "TP: 26\n",
      "TN: 2574\n",
      "FP: 98\n",
      "FN: 25\n",
      "\n",
      "Total: 2723\n",
      "\n",
      "False enhance: 16\n"
     ]
    }
   ],
   "source": [
    "# What if we enhance only the top10 prediction?\n",
    "\n",
    "file_name_to_enahnce = [k for k, el in exp_2_dict.items() if el['label'] in raw_label]\n",
    "file_name_not_to_enahnce = [k for k, el in exp_2_dict.items() if not el['label'] in raw_label]\n",
    "\n",
    "print(f\"Total file: {len(exp_2_dict)}\")\n",
    "print(f\"Total file to enhance: {len(file_name_to_enahnce)}\")\n",
    "print(f\"Total file NOT to enhance: {len(file_name_not_to_enahnce)}\")\n",
    "\n",
    "#   TP - FN - False_enhance\n",
    "tp = 0\n",
    "fn = 0\n",
    "false_enhance = 0 # enhance the wrong label\n",
    "for name in file_name_to_enahnce:\n",
    "    label = exp_2_dict[name]['label']\n",
    "    # Find the corresponding emotion\n",
    "    emotion_to_enhance = next(int(key) for key, value in w_to_e.items() if label in value)\n",
    "    emotion = exp_2_dict[name]['emotion']\n",
    "\n",
    "    prev_score = exp_1_dict[name]['score'].argsort()[-10:]\n",
    "    top10_to_enhance = [p for p in prev_score if p in w_to_e[str(emotion_to_enhance)]]\n",
    "\n",
    "    # print(prev_score)\n",
    "    # print(w_to_e[str(emotion_to_enhance)])\n",
    "\n",
    "    # I consider any kind of enhancemnt as such, so it's TP just by a \"0.001\".\n",
    "    if len(top10_to_enhance) > 0 and emotion[emotion_to_enhance] > 0:\n",
    "        tp += 1\n",
    "        if sum([emotion[i] for i in range(1,8) if i != emotion_to_enhance]) > 0.4:\n",
    "            # Enhance more then 40% different emotion (not neutral)\n",
    "            false_enhance += 1\n",
    "    else:\n",
    "        fn += 1\n",
    "\n",
    "\n",
    "#   TN - FP\n",
    "tn = 0\n",
    "fp = 0\n",
    "for name in file_name_not_to_enahnce:\n",
    "    emotion = exp_2_dict[name]['emotion']\n",
    "    prev_score = exp_1_dict[name]['score'].argsort()[-10:]\n",
    "\n",
    "    union = [p for p in prev_score if p in raw_label] # label that would be enhanced.\n",
    "\n",
    "    # emotion correspondign to the label enhaced.\n",
    "    emotion_enhanced = [int(k) for k, v in w_to_e.items() if len([u for u in union if u in v])>0]\n",
    "\n",
    "    if len(union) == 0 or emotion[emotion_enhanced].sum() == 0:\n",
    "        tn += 1\n",
    "    else:\n",
    "        fp += 1\n",
    "\n",
    "\n",
    "print(f\"\\nTP: {tp}\")\n",
    "print(f\"TN: {tn}\")\n",
    "print(f\"FP: {fp}\")\n",
    "print(f\"FN: {fn}\")\n",
    "print(f\"\\nTotal: {tp + tn + fp + fn}\")\n",
    "\n",
    "print(f\"\\nFalse enhance: {false_enhance}\")"
   ]
  },
  {
   "cell_type": "markdown",
   "metadata": {},
   "source": [
    "that's great by enhancing the top10 we reduce drastically the FP and increase the TN."
   ]
  },
  {
   "cell_type": "markdown",
   "metadata": {},
   "source": [
    "So if in exp2 we already do this, why we get less accuracy (in top1)?\n",
    "in the following code i'm trying to understand this."
   ]
  },
  {
   "cell_type": "code",
   "execution_count": 18,
   "metadata": {},
   "outputs": [
    {
     "name": "stdout",
     "output_type": "stream",
     "text": [
      "Better for 1\t9\n",
      "\n",
      "            signer5_sample1216\n",
      "\n",
      "            [  78 1008  797 1750 1898 1495   50  922   55  881]\n",
      "\n",
      "            [  78 1008  797 1750 1898 1495  922   55  881   50]\n",
      "\n",
      "        \n",
      "            signer9_sample167\n",
      "\n",
      "            [ 830 1310  899  769  926  843  452 1609  847  194]\n",
      "\n",
      "            [ 830 1310  899  926  843  452 1609  847  194  769]\n",
      "\n",
      "        \n",
      "            signer9_sample204\n",
      "\n",
      "            [1736  860  580 1343  937  175  848  630 1642  243]\n",
      "\n",
      "            [1736  860  580 1343  937  848  630 1642  243  175]\n",
      "\n",
      "        \n",
      "            signer9_sample1299\n",
      "\n",
      "            [1109  345 1913  805  913  100 1162  943  111 1586]\n",
      "\n",
      "            [1109  345 1913  805  913  100 1162  943 1586  111]\n",
      "\n",
      "        \n",
      "            signer13_sample67\n",
      "\n",
      "            [1837 1001  317  243 1009  459 1343 1144  111  120]\n",
      "\n",
      "            [1837 1001  243 1009  459 1343 1144  120  317  111]\n",
      "\n",
      "        \n",
      "            signer32_sample160\n",
      "\n",
      "            [  46  600 1268   49  796  234 1713  269 1373  846]\n",
      "\n",
      "            [  46  600 1268   49  796  234 1713  269  846 1373]\n",
      "\n",
      "        \n",
      "            signer39_sample40\n",
      "\n",
      "            [ 929  555  907  629 1304 1763 1011   62  701  225]\n",
      "\n",
      "            [ 929  555  907 1304 1763 1011   62  701  225  629]\n",
      "\n",
      "        \n",
      "            signer64_sample14\n",
      "\n",
      "            [ 476  253  970  692 1111  206  831  468 1291  141]\n",
      "\n",
      "            [ 476  253  970 1111  206  831  468  692  141 1291]\n",
      "\n",
      "        \n",
      "            signer118_sample13\n",
      "\n",
      "            [1241   64 1015   72  816   22  140  104  629   33]\n",
      "\n",
      "            [1241   64 1015   72  816   22  140  104   33  629]\n",
      "\n",
      "        \n",
      "Better for 2\t5\n",
      "\n",
      "            signer5_sample582\n",
      "\n",
      "            [ 605 1465  581 1244  591  351  321  179  309  313]\n",
      "\n",
      "            [ 605 1465  581 1244  591  351  321  179  313  309]\n",
      "\n",
      "        \n",
      "            signer5_sample820\n",
      "\n",
      "            [ 615  589  150    7 1244  125   98  237  492  775]\n",
      "\n",
      "            [ 615  589  150    7 1244  125   98  237  775  492]\n",
      "\n",
      "        \n",
      "            signer37_sample90\n",
      "\n",
      "            [ 952 1391 1458  384 1429  893  321 1036  698 1393]\n",
      "\n",
      "            [ 952 1391 1458  384 1429  893  321 1036 1393  698]\n",
      "\n",
      "        \n",
      "            signer39_sample115\n",
      "\n",
      "            [1463  325   95  250 1515  232 1239 1818 1118  446]\n",
      "\n",
      "            [1463  325   95  250 1515  232 1239 1818  446 1118]\n",
      "\n",
      "        \n",
      "            signer59_sample222\n",
      "\n",
      "            [1654  198  219 1580 1855   26 1964  654 1367 1613]\n",
      "\n",
      "            [1654  198  219 1580 1855   26 1964  654 1613 1367]\n",
      "\n",
      "        \n"
     ]
    }
   ],
   "source": [
    "better_for_1 = \"\"\n",
    "count_1 = 0\n",
    "better_for_2 = \"\"\n",
    "count_2 = 0\n",
    "\n",
    "for name, el in exp_1_dict.items():\n",
    "    pred_1 = exp_1_dict[name]['score'].argmax()\n",
    "    pred_2 = exp_2_dict[name]['score'].argmax()\n",
    "    label = exp_1_dict[name]['label']\n",
    "    assert label == exp_2_dict[name]['label']\n",
    "    if pred_1 == label and pred_2 != label:\n",
    "        better_for_1 += f\"\"\"\n",
    "            {name}\\n\n",
    "            {exp_1_dict[name]['score'].argsort()[-10:]}\\n\n",
    "            {exp_2_dict[name]['score'].argsort()[-10:]}\\n\n",
    "        \"\"\"\n",
    "        count_1 += 1\n",
    "    if pred_2 == label and pred_1 != label:\n",
    "        better_for_2 += f\"\"\"\n",
    "            {name}\\n\n",
    "            {exp_1_dict[name]['score'].argsort()[-10:]}\\n\n",
    "            {exp_2_dict[name]['score'].argsort()[-10:]}\\n\n",
    "        \"\"\"\n",
    "        count_2 += 1\n",
    "\n",
    "print(f\"Better for 1\\t{count_1}\\n{better_for_1}\")\n",
    "print(f\"Better for 2\\t{count_2}\\n{better_for_2}\")\n"
   ]
  },
  {
   "cell_type": "markdown",
   "metadata": {},
   "source": [
    "So where it's better we have a really small jump, like from second postion to first, and where it's wrong 4/9 we jump from a lower position to first, so like, i can try reduce the influence ok the enhancement to a 80%, will see in experiment 3."
   ]
  }
 ],
 "metadata": {
  "kernelspec": {
   "display_name": "Python 3",
   "language": "python",
   "name": "python3"
  },
  "language_info": {
   "codemirror_mode": {
    "name": "ipython",
    "version": 3
   },
   "file_extension": ".py",
   "mimetype": "text/x-python",
   "name": "python",
   "nbconvert_exporter": "python",
   "pygments_lexer": "ipython3",
   "version": "3.9.13"
  }
 },
 "nbformat": 4,
 "nbformat_minor": 2
}
