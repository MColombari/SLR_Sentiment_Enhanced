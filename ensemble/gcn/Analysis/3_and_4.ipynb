{
 "cells": [
  {
   "cell_type": "code",
   "execution_count": 9,
   "metadata": {},
   "outputs": [],
   "source": [
    "# imports\n",
    "import numpy as np\n",
    "import csv\n",
    "import json"
   ]
  },
  {
   "cell_type": "code",
   "execution_count": 10,
   "metadata": {},
   "outputs": [],
   "source": [
    "# File path\n",
    "\n",
    "EXP_3_CSV_FILE_PATH = \"/work/cvcs2024/SLR_sentiment_enhanced/SLRSE_model_data/Ensemble/SL-GCN/prediction/3/stat.csv\"\n",
    "EXP_4_CSV_FILE_PATH = \"/work/cvcs2024/SLR_sentiment_enhanced/SLRSE_model_data/Ensemble/SL-GCN/prediction/4/stat.csv\"\n",
    "\n",
    "EMOTION_LABEL_PATH = \"/homes/mcolombari/SLR_Sentiment_Enhanced/DAN_module/sign_emotion_assosiation.json\""
   ]
  },
  {
   "cell_type": "code",
   "execution_count": 11,
   "metadata": {},
   "outputs": [],
   "source": [
    "# Load emotion label\n",
    "\n",
    "f_w_to_e = open(EMOTION_LABEL_PATH)\n",
    "w_to_e = json.load(f_w_to_e)\n",
    "\n",
    "raw_label = []\n",
    "for _, i in w_to_e.items():\n",
    "    for a in i:\n",
    "        raw_label.append(a)"
   ]
  },
  {
   "cell_type": "code",
   "execution_count": 12,
   "metadata": {},
   "outputs": [],
   "source": [
    "# Load data csv\n",
    "\n",
    "exp_3_dict = dict()\n",
    "with open(EXP_3_CSV_FILE_PATH, newline='\\n') as csvfile:\n",
    "    spamreader = csv.reader(csvfile, delimiter=',')\n",
    "    for row in spamreader:\n",
    "        exp_3_dict[str(row[0])] = {\n",
    "            'label': int(row[1]),\n",
    "            'score_diff': float(row[2]),\n",
    "            'score_diff_softmax': float(row[3]),\n",
    "            'emotion': np.array([float(row[i + 4]) for i in range(8)]),\n",
    "            'score': np.array([float(row[i + 12]) for i in range(2000)])\n",
    "        }\n",
    "\n",
    "exp_4_dict = dict()\n",
    "with open(EXP_4_CSV_FILE_PATH, newline='\\n') as csvfile:\n",
    "    spamreader = csv.reader(csvfile, delimiter=',')\n",
    "    for row in spamreader:\n",
    "        exp_4_dict[str(row[0])] = {\n",
    "            'label': int(row[1]),\n",
    "            'score_diff': float(row[2]),\n",
    "            'score_diff_softmax': float(row[3]),\n",
    "            'emotion': np.array([float(row[i + 4]) for i in range(8)]),\n",
    "            'score': np.array([float(row[i + 12]) for i in range(2000)])\n",
    "        }"
   ]
  },
  {
   "cell_type": "markdown",
   "metadata": {},
   "source": [
    "## Analysis 3° Experiment\n",
    "EMOTION_SLOPE = 0.8\n",
    "\n",
    "EMOTION_OFFSET = 0"
   ]
  },
  {
   "cell_type": "code",
   "execution_count": 13,
   "metadata": {},
   "outputs": [
    {
     "name": "stdout",
     "output_type": "stream",
     "text": [
      "Top1 accuracy: 0.28130738156445095\n",
      "Top5 accuracy: 0.6000734484024972\n",
      "Top10 accuracy: 0.6999632757987514\n",
      "Mean loss normal: 729.9876684539112\n",
      "Mean loss softmax: 1.4984789570326844\n"
     ]
    }
   ],
   "source": [
    "top1_count = sum([1 if el['label'] == el['score'].argsort()[-1] else 0 for _ , el in exp_3_dict.items()])\n",
    "print(f\"Top1 accuracy: {top1_count / len(exp_3_dict)}\")\n",
    "\n",
    "top5_count = sum([1 if el['label'] in el['score'].argsort()[-5:] else 0 for _ , el in exp_3_dict.items()])\n",
    "print(f\"Top5 accuracy: {top5_count / len(exp_3_dict)}\")\n",
    "\n",
    "top10_count = sum([1 if el['label'] in el['score'].argsort()[-10:] else 0 for _ , el in exp_3_dict.items()])\n",
    "print(f\"Top10 accuracy: {top10_count / len(exp_3_dict)}\")\n",
    "\n",
    "mean_loss_normal = np.array([el['score_diff'] for k, el in exp_3_dict.items()]).mean()\n",
    "print(f\"Mean loss normal: {mean_loss_normal}\")\n",
    "mean_loss_softmax = np.array([el['score_diff_softmax'] for k, el in exp_3_dict.items()]).mean()\n",
    "print(f\"Mean loss softmax: {mean_loss_softmax}\")"
   ]
  },
  {
   "cell_type": "code",
   "execution_count": 14,
   "metadata": {},
   "outputs": [
    {
     "name": "stdout",
     "output_type": "stream",
     "text": [
      "Top1 accuracy: 0.45098039215686275\n",
      "Top5 accuracy: 0.7843137254901961\n",
      "Top10 accuracy: 0.7843137254901961\n",
      "Mean loss normal: 636.7127960784313\n",
      "Mean loss softmax: 1.1639627450980392\n"
     ]
    }
   ],
   "source": [
    "# Accuracy for emotion label\n",
    "\n",
    "em_value = {}\n",
    "for k, el in exp_3_dict.items():\n",
    "    if el['label'] in raw_label:\n",
    "        em_value[k] = el\n",
    "\n",
    "\n",
    "top1_count = sum([1 if el['label'] == el['score'].argsort()[-1] else 0 for _ , el in em_value.items()])\n",
    "print(f\"Top1 accuracy: {top1_count / len(em_value)}\")\n",
    "\n",
    "top5_count = sum([1 if el['label'] in el['score'].argsort()[-5:] else 0 for _ , el in em_value.items()])\n",
    "print(f\"Top5 accuracy: {top5_count / len(em_value)}\")\n",
    "\n",
    "top10_count = sum([1 if el['label'] in el['score'].argsort()[-10:] else 0 for _ , el in em_value.items()])\n",
    "print(f\"Top10 accuracy: {top10_count / len(em_value)}\")\n",
    "\n",
    "mean_loss_normal = np.array([el['score_diff'] for k, el in em_value.items()]).mean()\n",
    "print(f\"Mean loss normal: {mean_loss_normal}\")\n",
    "mean_loss_softmax = np.array([el['score_diff_softmax'] for k, el in em_value.items()]).mean()\n",
    "print(f\"Mean loss softmax: {mean_loss_softmax}\")"
   ]
  },
  {
   "cell_type": "markdown",
   "metadata": {},
   "source": [
    "## Analysis 4 experiment\n",
    "\n",
    "EMOTION_SLOPE = 1.2\n",
    "\n",
    "EMOTION_OFFSET = 0"
   ]
  },
  {
   "cell_type": "code",
   "execution_count": 15,
   "metadata": {},
   "outputs": [
    {
     "name": "stdout",
     "output_type": "stream",
     "text": [
      "Top1 accuracy: 0.2802056555269923\n",
      "Top5 accuracy: 0.6000734484024972\n",
      "Top10 accuracy: 0.6999632757987514\n",
      "Mean loss normal: 728.8163092544987\n",
      "Mean loss softmax: 1.500110025706941\n"
     ]
    }
   ],
   "source": [
    "top1_count = sum([1 if el['label'] == el['score'].argsort()[-1] else 0 for _ , el in exp_4_dict.items()])\n",
    "print(f\"Top1 accuracy: {top1_count / len(exp_4_dict)}\")\n",
    "\n",
    "top5_count = sum([1 if el['label'] in el['score'].argsort()[-5:] else 0 for _ , el in exp_4_dict.items()])\n",
    "print(f\"Top5 accuracy: {top5_count / len(exp_4_dict)}\")\n",
    "\n",
    "top10_count = sum([1 if el['label'] in el['score'].argsort()[-10:] else 0 for _ , el in exp_4_dict.items()])\n",
    "print(f\"Top10 accuracy: {top10_count / len(exp_4_dict)}\")\n",
    "\n",
    "mean_loss_normal = np.array([el['score_diff'] for k, el in exp_4_dict.items()]).mean()\n",
    "print(f\"Mean loss normal: {mean_loss_normal}\")\n",
    "mean_loss_softmax = np.array([el['score_diff_softmax'] for k, el in exp_4_dict.items()]).mean()\n",
    "print(f\"Mean loss softmax: {mean_loss_softmax}\")"
   ]
  },
  {
   "cell_type": "code",
   "execution_count": 16,
   "metadata": {},
   "outputs": [
    {
     "name": "stdout",
     "output_type": "stream",
     "text": [
      "Top1 accuracy: 0.47058823529411764\n",
      "Top5 accuracy: 0.7843137254901961\n",
      "Top10 accuracy: 0.7843137254901961\n",
      "Mean loss normal: 615.0492588235294\n",
      "Mean loss softmax: 1.1233803921568626\n"
     ]
    }
   ],
   "source": [
    "# Accuracy for emotion label\n",
    "\n",
    "em_value = {}\n",
    "for k, el in exp_4_dict.items():\n",
    "    if el['label'] in raw_label:\n",
    "        em_value[k] = el\n",
    "\n",
    "\n",
    "top1_count = sum([1 if el['label'] == el['score'].argsort()[-1] else 0 for _ , el in em_value.items()])\n",
    "print(f\"Top1 accuracy: {top1_count / len(em_value)}\")\n",
    "\n",
    "top5_count = sum([1 if el['label'] in el['score'].argsort()[-5:] else 0 for _ , el in em_value.items()])\n",
    "print(f\"Top5 accuracy: {top5_count / len(em_value)}\")\n",
    "\n",
    "top10_count = sum([1 if el['label'] in el['score'].argsort()[-10:] else 0 for _ , el in em_value.items()])\n",
    "print(f\"Top10 accuracy: {top10_count / len(em_value)}\")\n",
    "\n",
    "mean_loss_normal = np.array([el['score_diff'] for k, el in em_value.items()]).mean()\n",
    "print(f\"Mean loss normal: {mean_loss_normal}\")\n",
    "mean_loss_softmax = np.array([el['score_diff_softmax'] for k, el in em_value.items()]).mean()\n",
    "print(f\"Mean loss softmax: {mean_loss_softmax}\")"
   ]
  },
  {
   "cell_type": "markdown",
   "metadata": {},
   "source": [
    "No acuall improvement."
   ]
  }
 ],
 "metadata": {
  "kernelspec": {
   "display_name": "base",
   "language": "python",
   "name": "python3"
  },
  "language_info": {
   "codemirror_mode": {
    "name": "ipython",
    "version": 3
   },
   "file_extension": ".py",
   "mimetype": "text/x-python",
   "name": "python",
   "nbconvert_exporter": "python",
   "pygments_lexer": "ipython3",
   "version": "3.9.13"
  }
 },
 "nbformat": 4,
 "nbformat_minor": 2
}
