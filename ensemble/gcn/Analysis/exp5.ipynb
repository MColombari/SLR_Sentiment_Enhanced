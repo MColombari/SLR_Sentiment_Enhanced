{
 "cells": [
  {
   "cell_type": "markdown",
   "metadata": {},
   "source": [
    "Like exp2 but after removing some word from the assosiation that show problems and exluding the signer 9, i found it give some problem."
   ]
  },
  {
   "cell_type": "code",
   "execution_count": 1,
   "metadata": {},
   "outputs": [],
   "source": [
    "# imports\n",
    "import numpy as np\n",
    "import csv\n",
    "import json"
   ]
  },
  {
   "cell_type": "code",
   "execution_count": 2,
   "metadata": {},
   "outputs": [],
   "source": [
    "# File path\n",
    "\n",
    "EXP_1_CSV_FILE_PATH = \"/work/cvcs2024/SLR_sentiment_enhanced/SLRSE_model_data/Ensemble/SL-GCN/prediction/1/stat.csv\"\n",
    "EXP_2_CSV_FILE_PATH = \"/work/cvcs2024/SLR_sentiment_enhanced/SLRSE_model_data/Ensemble/SL-GCN/prediction/2/stat.csv\"\n",
    "EXP_5_CSV_FILE_PATH = \"/work/cvcs2024/SLR_sentiment_enhanced/SLRSE_model_data/Ensemble/SL-GCN/prediction/5/stat.csv\"\n",
    "\n",
    "EMOTION_LABEL_PATH = \"/homes/mcolombari/SLR_Sentiment_Enhanced/DAN_module/sign_emotion_assosiation.json\""
   ]
  },
  {
   "cell_type": "code",
   "execution_count": 3,
   "metadata": {},
   "outputs": [],
   "source": [
    "# Load emotion label\n",
    "\n",
    "f_w_to_e = open(EMOTION_LABEL_PATH)\n",
    "w_to_e = json.load(f_w_to_e)\n",
    "\n",
    "raw_label = []\n",
    "for _, i in w_to_e.items():\n",
    "    for a in i:\n",
    "        raw_label.append(a)"
   ]
  },
  {
   "cell_type": "code",
   "execution_count": 4,
   "metadata": {},
   "outputs": [],
   "source": [
    "# Load data csv\n",
    "\n",
    "exp_1_dict = dict()\n",
    "with open(EXP_1_CSV_FILE_PATH, newline='\\n') as csvfile:\n",
    "    spamreader = csv.reader(csvfile, delimiter=',')\n",
    "    for row in spamreader:\n",
    "        exp_1_dict[str(row[0])] = {\n",
    "            'label': int(row[1]),\n",
    "            'score_diff': float(row[2]),\n",
    "            'score_diff_softmax': float(row[3]),\n",
    "            'score': np.array([float(row[i + 4]) for i in range(2000)])\n",
    "        }\n",
    "\n",
    "exp_2_dict = dict()\n",
    "with open(EXP_2_CSV_FILE_PATH, newline='\\n') as csvfile:\n",
    "    spamreader = csv.reader(csvfile, delimiter=',')\n",
    "    for row in spamreader:\n",
    "        exp_2_dict[str(row[0])] = {\n",
    "            'label': int(row[1]),\n",
    "            'score_diff': float(row[2]),\n",
    "            'score_diff_softmax': float(row[3]),\n",
    "            'emotion': np.array([float(row[i + 4]) for i in range(8)]),\n",
    "            'score': np.array([float(row[i + 12]) for i in range(2000)])\n",
    "        }\n",
    "\n",
    "exp_5_dict = dict()\n",
    "with open(EXP_5_CSV_FILE_PATH, newline='\\n') as csvfile:\n",
    "    spamreader = csv.reader(csvfile, delimiter=',')\n",
    "    for row in spamreader:\n",
    "        exp_5_dict[str(row[0])] = {\n",
    "            'label': int(row[1]),\n",
    "            'score_diff': float(row[2]),\n",
    "            'score_diff_softmax': float(row[3]),\n",
    "            'emotion': np.array([float(row[i + 4]) for i in range(8)]),\n",
    "            'score': np.array([float(row[i + 12]) for i in range(2000)])\n",
    "        }"
   ]
  },
  {
   "cell_type": "markdown",
   "metadata": {},
   "source": [
    "## EXP 5"
   ]
  },
  {
   "cell_type": "code",
   "execution_count": 5,
   "metadata": {},
   "outputs": [
    {
     "name": "stdout",
     "output_type": "stream",
     "text": [
      "Top1 accuracy: 0.30227565478746243\n",
      "Top5 accuracy: 0.6277372262773723\n",
      "Top10 accuracy: 0.7239158437097467\n",
      "Mean loss normal: 726.2018297123229\n",
      "Mean loss softmax: 1.461402962644912\n"
     ]
    }
   ],
   "source": [
    "top1_count = sum([1 if el['label'] == el['score'].argsort()[-1] else 0 for _ , el in exp_5_dict.items()])\n",
    "print(f\"Top1 accuracy: {top1_count / len(exp_5_dict)}\")\n",
    "\n",
    "top5_count = sum([1 if el['label'] in el['score'].argsort()[-5:] else 0 for _ , el in exp_5_dict.items()])\n",
    "print(f\"Top5 accuracy: {top5_count / len(exp_5_dict)}\")\n",
    "\n",
    "top10_count = sum([1 if el['label'] in el['score'].argsort()[-10:] else 0 for _ , el in exp_5_dict.items()])\n",
    "print(f\"Top10 accuracy: {top10_count / len(exp_5_dict)}\")\n",
    "\n",
    "mean_loss_normal = np.array([el['score_diff'] for k, el in exp_5_dict.items()]).mean()\n",
    "print(f\"Mean loss normal: {mean_loss_normal}\")\n",
    "mean_loss_softmax = np.array([el['score_diff_softmax'] for k, el in exp_5_dict.items()]).mean()\n",
    "print(f\"Mean loss softmax: {mean_loss_softmax}\")"
   ]
  },
  {
   "cell_type": "markdown",
   "metadata": {},
   "source": [
    "Now it's finally better then exp1!!!"
   ]
  },
  {
   "cell_type": "code",
   "execution_count": 6,
   "metadata": {},
   "outputs": [
    {
     "name": "stdout",
     "output_type": "stream",
     "text": [
      "Top1 accuracy: 0.4358974358974359\n",
      "Top5 accuracy: 0.7948717948717948\n",
      "Top10 accuracy: 0.7948717948717948\n",
      "Mean loss normal: 649.4470743589743\n",
      "Mean loss softmax: 1.1504102564102563\n"
     ]
    }
   ],
   "source": [
    "# Accuracy for emotion label\n",
    "\n",
    "em_value = {}\n",
    "for k, el in exp_5_dict.items():\n",
    "    if el['label'] in raw_label:\n",
    "        em_value[k] = el\n",
    "\n",
    "\n",
    "top1_count = sum([1 if el['label'] == el['score'].argsort()[-1] else 0 for _ , el in em_value.items()])\n",
    "print(f\"Top1 accuracy: {top1_count / len(em_value)}\")\n",
    "\n",
    "top5_count = sum([1 if el['label'] in el['score'].argsort()[-5:] else 0 for _ , el in em_value.items()])\n",
    "print(f\"Top5 accuracy: {top5_count / len(em_value)}\")\n",
    "\n",
    "top10_count = sum([1 if el['label'] in el['score'].argsort()[-10:] else 0 for _ , el in em_value.items()])\n",
    "print(f\"Top10 accuracy: {top10_count / len(em_value)}\")\n",
    "\n",
    "mean_loss_normal = np.array([el['score_diff'] for k, el in em_value.items()]).mean()\n",
    "print(f\"Mean loss normal: {mean_loss_normal}\")\n",
    "mean_loss_softmax = np.array([el['score_diff_softmax'] for k, el in em_value.items()]).mean()\n",
    "print(f\"Mean loss softmax: {mean_loss_softmax}\")"
   ]
  },
  {
   "cell_type": "markdown",
   "metadata": {},
   "source": [
    "Why do we get a worst result then exp2?"
   ]
  },
  {
   "cell_type": "code",
   "execution_count": 7,
   "metadata": {},
   "outputs": [
    {
     "name": "stdout",
     "output_type": "stream",
     "text": [
      "Better for 1\t4\n",
      "\n",
      "            signer13_sample67\n",
      "\n",
      "            [1837 1001  317  243 1009  459 1343 1144  111  120]\n",
      "\n",
      "            [1837 1001  243 1009  459 1343 1144  120  317  111]\n",
      "\n",
      "        \n",
      "            signer13_sample366\n",
      "\n",
      "            [ 626 1528 1375 1350  895  530  817  539 1299  629]\n",
      "\n",
      "            [ 626 1528 1375 1350  895  530  817  539  629 1299]\n",
      "\n",
      "        \n",
      "            signer32_sample160\n",
      "\n",
      "            [  46  600 1268   49  796  234 1713  269 1373  846]\n",
      "\n",
      "            [  46  600 1268   49  796  234 1713  269  846 1373]\n",
      "\n",
      "        \n",
      "            signer64_sample14\n",
      "\n",
      "            [ 476  253  970  692 1111  206  831  468 1291  141]\n",
      "\n",
      "            [ 476  253  970 1111  206  831  468  692  141 1291]\n",
      "\n",
      "        \n",
      "Better for 5\t5\n",
      "\n",
      "            signer5_sample582\n",
      "\n",
      "            [ 605 1465  581 1244  591  351  321  179  309  313]\n",
      "\n",
      "            [ 605 1465  581 1244  591  351  321  179  313  309]\n",
      "\n",
      "        \n",
      "            signer5_sample820\n",
      "\n",
      "            [ 615  589  150    7 1244  125   98  237  492  775]\n",
      "\n",
      "            [ 615  589  150    7 1244  125   98  237  775  492]\n",
      "\n",
      "        \n",
      "            signer37_sample90\n",
      "\n",
      "            [ 952 1391 1458  384 1429  893  321 1036  698 1393]\n",
      "\n",
      "            [ 952 1391 1458  384 1429  893  321 1036 1393  698]\n",
      "\n",
      "        \n",
      "            signer39_sample115\n",
      "\n",
      "            [1463  325   95  250 1515  232 1239 1818 1118  446]\n",
      "\n",
      "            [1463  325   95  250 1515  232 1239 1818  446 1118]\n",
      "\n",
      "        \n",
      "            signer59_sample222\n",
      "\n",
      "            [1654  198  219 1580 1855   26 1964  654 1367 1613]\n",
      "\n",
      "            [1654  198  219 1580 1855   26 1964  654 1613 1367]\n",
      "\n",
      "        \n"
     ]
    }
   ],
   "source": [
    "better_for_1 = \"\"\n",
    "count_1 = 0\n",
    "better_for_5 = \"\"\n",
    "count_5 = 0\n",
    "\n",
    "for name, el in exp_5_dict.items():\n",
    "    pred_1 = exp_1_dict[name]['score'].argmax()\n",
    "    pred_5 = exp_5_dict[name]['score'].argmax()\n",
    "    label = exp_1_dict[name]['label']\n",
    "    assert label == exp_5_dict[name]['label']\n",
    "    if pred_1 == label and pred_5 != label:\n",
    "        better_for_1 += f\"\"\"\n",
    "            {name}\\n\n",
    "            {exp_1_dict[name]['score'].argsort()[-10:]}\\n\n",
    "            {exp_5_dict[name]['score'].argsort()[-10:]}\\n\n",
    "        \"\"\"\n",
    "        count_1 += 1\n",
    "    if pred_5 == label and pred_1 != label:\n",
    "        better_for_5 += f\"\"\"\n",
    "            {name}\\n\n",
    "            {exp_1_dict[name]['score'].argsort()[-10:]}\\n\n",
    "            {exp_5_dict[name]['score'].argsort()[-10:]}\\n\n",
    "        \"\"\"\n",
    "        count_5 += 1\n",
    "\n",
    "print(f\"Better for 1\\t{count_1}\\n{better_for_1}\")\n",
    "print(f\"Better for 5\\t{count_5}\\n{better_for_5}\")"
   ]
  },
  {
   "cell_type": "code",
   "execution_count": 8,
   "metadata": {},
   "outputs": [
    {
     "name": "stdout",
     "output_type": "stream",
     "text": [
      "Better for 2\t0\n",
      "\n",
      "Better for 5\t0\n",
      "\n"
     ]
    }
   ],
   "source": [
    "better_for_2 = \"\"\n",
    "count_2 = 0\n",
    "better_for_5 = \"\"\n",
    "count_5 = 0\n",
    "\n",
    "em_2_value = {}\n",
    "for k, el in exp_2_dict.items():\n",
    "    if el['label'] in raw_label:\n",
    "        em_value[k] = el\n",
    "\n",
    "em_5_value = {}\n",
    "for k, el in exp_5_dict.items():\n",
    "    if el['label'] in raw_label:\n",
    "        em_value[k] = el\n",
    "\n",
    "for name, el in em_5_value.items():\n",
    "    pred_2 = exp_2_dict[name]['score'].argmax()\n",
    "    pred_5 = exp_5_dict[name]['score'].argmax()\n",
    "    label = exp_2_dict[name]['label']\n",
    "    assert label == exp_5_dict[name]['label']\n",
    "    if pred_2 == label and pred_5 != label:\n",
    "        better_for_2 += f\"\"\"\n",
    "            {name}\\n\n",
    "            {exp_2_dict[name]['score'].argsort()[-10:]}\\n\n",
    "            {exp_5_dict[name]['score'].argsort()[-10:]}\\n\n",
    "        \"\"\"\n",
    "        count_2 += 1\n",
    "    if pred_5 == label and pred_2 != label:\n",
    "        better_for_5 += f\"\"\"\n",
    "            {name}\\n\n",
    "            {exp_2_dict[name]['score'].argsort()[-10:]}\\n\n",
    "            {exp_5_dict[name]['score'].argsort()[-10:]}\\n\n",
    "        \"\"\"\n",
    "        count_5 += 1\n",
    "\n",
    "print(f\"Better for 2\\t{count_2}\\n{better_for_2}\")\n",
    "print(f\"Better for 5\\t{count_5}\\n{better_for_5}\")"
   ]
  },
  {
   "cell_type": "code",
   "execution_count": 9,
   "metadata": {},
   "outputs": [],
   "source": [
    "for k in exp_5_dict.keys():\n",
    "    if 'signer_1' in k:\n",
    "        print(k)"
   ]
  }
 ],
 "metadata": {
  "kernelspec": {
   "display_name": "base",
   "language": "python",
   "name": "python3"
  },
  "language_info": {
   "codemirror_mode": {
    "name": "ipython",
    "version": 3
   },
   "file_extension": ".py",
   "mimetype": "text/x-python",
   "name": "python",
   "nbconvert_exporter": "python",
   "pygments_lexer": "ipython3",
   "version": "3.9.13"
  }
 },
 "nbformat": 4,
 "nbformat_minor": 2
}
